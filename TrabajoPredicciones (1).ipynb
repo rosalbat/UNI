{
  "nbformat": 4,
  "nbformat_minor": 0,
  "metadata": {
    "colab": {
      "name": "TrabajoPredicciones.ipynb",
      "provenance": [],
      "collapsed_sections": []
    },
    "kernelspec": {
      "name": "python3",
      "display_name": "Python 3"
    },
    "language_info": {
      "name": "python"
    }
  },
  "cells": [
    {
      "cell_type": "markdown",
      "source": [
        "# **Algoritmos para Modelos Predictivos - Trabajo Final**\n",
        "$$\\text{Docente :   }_{\\text{Tito Reategui}}$$\n"
      ],
      "metadata": {
        "id": "OVA1qQYOpTgw"
      }
    },
    {
      "cell_type": "markdown",
      "source": [
        "$$\\text{Mayo :   }_{\\text{2022}}$$"
      ],
      "metadata": {
        "id": "bFUQLG0SpT7H"
      }
    },
    {
      "cell_type": "markdown",
      "source": [
        "![alt text](https://github.com/rosalbat/CTICBIGBATA17/blob/main/logo.JPG?raw=true)"
      ],
      "metadata": {
        "id": "O2HPYtLEpftW"
      }
    },
    {
      "cell_type": "markdown",
      "source": [
        "# **Programa Big Data and Analytics**"
      ],
      "metadata": {
        "id": "EQb5etC9pUt0"
      }
    },
    {
      "cell_type": "markdown",
      "source": [
        "##### *Trabajo Elaborado by*\n",
        "\n",
        "#### `Ramirez Aburto, Dylan Jean Paul`\n",
        "#### `Tiquillahuanca Tineo, Rosalba`\n",
        "#### `Gomez Reinoso, Jean Dante`"
      ],
      "metadata": {
        "id": "sJlCzjkaoE0q"
      }
    },
    {
      "cell_type": "markdown",
      "source": [
        "![alt text](https://github.com/rosalbat/CTICBIGBATA17/blob/main/logou.png?raw=true)"
      ],
      "metadata": {
        "id": "eeeVvoVQqNWa"
      }
    },
    {
      "cell_type": "code",
      "source": [
        ""
      ],
      "metadata": {
        "id": "46chdEK4-G8b"
      },
      "execution_count": null,
      "outputs": []
    },
    {
      "cell_type": "markdown",
      "source": [
        "###TEMA: `PREDICCIÓN DE NÚMERO DE MATRICULADOS PARA SIGUIENTE EL PERIODO ACADÉMICO 2022-2`"
      ],
      "metadata": {
        "id": "FewDJh4wqRv-"
      }
    },
    {
      "cell_type": "markdown",
      "source": [
        "#INTRODUCCIÓN\n"
      ],
      "metadata": {
        "id": "0IFpm9FfqR6j"
      }
    },
    {
      "cell_type": "markdown",
      "source": [
        "Este proyecto tiene como objetivo principal determinar el mejor modelo para poder calcular la cantidad de matriculados para el siguiente periodo académico, de tal manera, que se pueda cubrir las vacantes con exactitud para elaborar los horarios."
      ],
      "metadata": {
        "id": "4BSbt41iqR-H"
      }
    },
    {
      "cell_type": "markdown",
      "source": [
        "#MARCO DE ANÁLISIS\n"
      ],
      "metadata": {
        "id": "R16hsCz_qSEa"
      }
    },
    {
      "cell_type": "markdown",
      "source": [
        "####**Objetivos del Negocio**"
      ],
      "metadata": {
        "id": "v1T9bpcSqSKw"
      }
    },
    {
      "cell_type": "markdown",
      "source": [
        "Calcular el número de estudiantes a matricularse en el siguiente periodo académico"
      ],
      "metadata": {
        "id": "2KFfwfAgqiv-"
      }
    },
    {
      "cell_type": "markdown",
      "source": [
        "####**Objetivos de los Modelos Analíticos**"
      ],
      "metadata": {
        "id": "u7XTghRGqi7y"
      }
    },
    {
      "cell_type": "markdown",
      "source": [
        "Construir una herramienta analítica que permita predecir la cantidad de estudiantes a matricularse en el siguiente periodo académico\n"
      ],
      "metadata": {
        "id": "T4xPMBehqjFn"
      }
    },
    {
      "cell_type": "markdown",
      "source": [
        "####**Metodología de trabajo**"
      ],
      "metadata": {
        "id": "ZHd2dWJmqwcA"
      }
    },
    {
      "cell_type": "markdown",
      "source": [
        "En este proyecto vamos a trabajar de la siguiente manera:\n"
      ],
      "metadata": {
        "id": "UREHYPXqqwsW"
      }
    },
    {
      "cell_type": "markdown",
      "source": [
        "| **CONOCIMIENTO DEL PROBLEMA**     | **CONOCIMIENTO DE LA INFORMACIÓN** | **PREPARACIÓN DE LA INFORMACIÓN** | **MODELAMIENTO** |  TOMANDO ACCIONES |\n",
        "|:-------:   | :--------: | :---: | :---: | :---: |\n",
        "| Alcance del problema | Recursos | Construir matriz |Técnicas de modelado|Evaluación de los resultados|\n",
        "| Hipotesis iniciales | Lista de variables | Exploracion de datos|Evaluación de modelos| Lista de posibles acciones|\n",
        "| Recopilación de datos sobre el problema  | Descripción de variables | Transformación de variables | Evaluación de hipótesis inicial|Seguimiento de impactos|\n",
        "| Estimación de esfuerzos | Calidad de datos / Restricciones  |  | |Compartiendo lo aprendido|"
      ],
      "metadata": {
        "id": "KbwP6w6Rq5LM"
      }
    },
    {
      "cell_type": "markdown",
      "source": [
        "![alt text](https://github.com/rosalbat/CTICBIGBATA17/blob/main/predict.PNG?raw=true)\n"
      ],
      "metadata": {
        "id": "bU6sYND9q5Pd"
      }
    },
    {
      "cell_type": "markdown",
      "source": [
        "#Descripción del conjunto de datos (variables)\n"
      ],
      "metadata": {
        "id": "ZYLAQ5fLq5hY"
      }
    },
    {
      "cell_type": "markdown",
      "source": [
        "Con una matriz de 2528 registros.\n",
        "De las 9 variables tenemos 8 variables independientes y 1 variable dependiente o variable objetivo\n",
        "(Variable cuantitativa discreta)"
      ],
      "metadata": {
        "id": "gjgZbr2hrFAW"
      }
    },
    {
      "cell_type": "markdown",
      "source": [
        "| VARIABLES | DESCRIPCCIÓN |Tipo de Variable |\n",
        "| :---: | :---: | :---: |\n",
        "| ID CURSO | Identificador único del curso  | Independiente |\n",
        "| TIPO CURSO | Código de tipo de curso(Obligatorio, Complementario, Electivo) | Independiente |\n",
        "| PERIODO | Periodo de estudio del estudiante| Independiente |\n",
        "| CODFAC | Facultad de estudio del estudiante | Independiente |\n",
        "| **ESPECIALIDAD** | *Código de la especialidad* | Independiente |\n",
        "| APROBADOS | Cantidad de aprobados en un curso| Independiente |\n",
        "| **DESAPROBADOS** | *Cantidad de desaprobados en un curso* | Independiente |\n",
        "| RETIRADOS | Cantidad de retirados en un curso | Independiente |\n",
        "| **MATRICULADOS** | Cantidad de matriculados por curso | Dependiente |\n",
        "\n"
      ],
      "metadata": {
        "id": "ot00FxzXrFKE"
      }
    },
    {
      "cell_type": "markdown",
      "source": [
        "Identificamos que los estudiantes"
      ],
      "metadata": {
        "id": "HCPxTLXKrFSs"
      }
    },
    {
      "cell_type": "markdown",
      "source": [
        ""
      ],
      "metadata": {
        "id": "imOP9UNzrFgX"
      }
    },
    {
      "cell_type": "code",
      "source": [
        "# Tratamiento de datos\n",
        "# ==============================================================================\n",
        "import pandas as pd\n",
        "import numpy as np\n",
        "\n",
        "# Gráficos\n",
        "# ==============================================================================\n",
        "import matplotlib.pyplot as plt\n",
        "from matplotlib import style\n",
        "import seaborn as sns\n",
        "\n",
        "# Preprocesado y modelado\n",
        "# ==============================================================================\n",
        "from scipy.stats import pearsonr\n",
        "from sklearn.model_selection import train_test_split\n",
        "from sklearn.metrics import r2_score\n",
        "from sklearn.metrics import mean_squared_error\n",
        "import statsmodels.api as sm\n",
        "import statsmodels.formula.api as smf\n",
        "from statsmodels.stats.anova import anova_lm\n",
        "from scipy import stats\n",
        "\n",
        "# Configuración matplotlib\n",
        "# ==============================================================================\n",
        "plt.rcParams['image.cmap'] = \"bwr\"\n",
        "#plt.rcParams['figure.dpi'] = \"100\"\n",
        "plt.rcParams['savefig.bbox'] = \"tight\"\n",
        "style.use('ggplot') or plt.style.use('ggplot')\n",
        "\n",
        "# Configuración warnings\n",
        "# ==============================================================================\n",
        "import warnings\n",
        "warnings.filterwarnings('ignore')"
      ],
      "metadata": {
        "id": "rLtf9lHonPeR"
      },
      "execution_count": null,
      "outputs": []
    },
    {
      "cell_type": "code",
      "source": [
        "df2=pd.read_csv('MATRICULADOS.csv', header=0, delimiter=';' )\n",
        "print(df2)"
      ],
      "metadata": {
        "colab": {
          "base_uri": "https://localhost:8080/"
        },
        "id": "cwuZNkv1oJIj",
        "outputId": "67c91a16-52c0-47dd-d3b9-773fcf05a177"
      },
      "execution_count": null,
      "outputs": [
        {
          "output_type": "stream",
          "name": "stdout",
          "text": [
            "      PERIODO FACULTAD  ESPECIALIDAD  CURSO TIPOCURSO  APROBADOS  \\\n",
            "0       20151        I             1  CB101         O         42   \n",
            "1       20151        I             1  CB111         O         28   \n",
            "2       20151        I             1  CB112         O         29   \n",
            "3       20151        I             1  CB121         O         50   \n",
            "4       20151        I             1  CB131         O         28   \n",
            "...       ...      ...           ...    ...       ...        ...   \n",
            "2523    20212        I             2  ST414         O          6   \n",
            "2524    20212        I             2  ST605         E          4   \n",
            "2525    20212        I             2  TE101         C          1   \n",
            "2526    20212        I             2  TE111         E         29   \n",
            "2527    20212        I             2  TP313         E          6   \n",
            "\n",
            "      DESAPROBADOS  RETIRADOS  MATRICULADOS  \n",
            "0               30          1            73  \n",
            "1               13          1            42  \n",
            "2               10          0            39  \n",
            "3                5          1            56  \n",
            "4               10          0            38  \n",
            "...            ...        ...           ...  \n",
            "2523             2          0             8  \n",
            "2524             1          0             5  \n",
            "2525             0          2             3  \n",
            "2526             2          3            34  \n",
            "2527             4          4            14  \n",
            "\n",
            "[2528 rows x 9 columns]\n"
          ]
        }
      ]
    },
    {
      "cell_type": "code",
      "source": [
        "del(df2['FACULTAD'])"
      ],
      "metadata": {
        "id": "9ldq0vnboXtx"
      },
      "execution_count": null,
      "outputs": []
    },
    {
      "cell_type": "code",
      "source": [
        "# Correlación entre columnas numéricas\n",
        "# ==============================================================================\n",
        "\n",
        "def tidy_corr_matrix(corr_mat):\n",
        "    '''\n",
        "    Función para convertir una matriz de correlación de pandas en formato tidy\n",
        "    '''\n",
        "    corr_mat = corr_mat.stack().reset_index()\n",
        "    corr_mat.columns = ['variable_1','variable_2','r']\n",
        "    corr_mat = corr_mat.loc[corr_mat['variable_1'] != corr_mat['variable_2'], :]\n",
        "    corr_mat['abs_r'] = np.abs(corr_mat['r'])\n",
        "    corr_mat = corr_mat.sort_values('abs_r', ascending=False)\n",
        "    \n",
        "    return(corr_mat)\n",
        "\n",
        "\n",
        "\n",
        "corr_matrix = df2.select_dtypes(include=['float64', 'int']).corr(method='pearson')\n",
        "tidy_corr_matrix(corr_matrix).head(15)"
      ],
      "metadata": {
        "colab": {
          "base_uri": "https://localhost:8080/",
          "height": 520
        },
        "id": "H0HMgqqXolVB",
        "outputId": "ef187a56-e668-46a4-e640-d361caa41cc1"
      },
      "execution_count": null,
      "outputs": [
        {
          "output_type": "execute_result",
          "data": {
            "text/plain": [
              "      variable_1    variable_2         r     abs_r\n",
              "32  MATRICULADOS     APROBADOS  0.933670  0.933670\n",
              "17     APROBADOS  MATRICULADOS  0.933670  0.933670\n",
              "33  MATRICULADOS  DESAPROBADOS  0.606809  0.606809\n",
              "23  DESAPROBADOS  MATRICULADOS  0.606809  0.606809\n",
              "15     APROBADOS  DESAPROBADOS  0.302626  0.302626\n",
              "20  DESAPROBADOS     APROBADOS  0.302626  0.302626\n",
              "18  DESAPROBADOS       PERIODO -0.197342  0.197342\n",
              "3        PERIODO  DESAPROBADOS -0.197342  0.197342\n",
              "29     RETIRADOS  MATRICULADOS  0.162460  0.162460\n",
              "34  MATRICULADOS     RETIRADOS  0.162460  0.162460\n",
              "22  DESAPROBADOS     RETIRADOS  0.146016  0.146016\n",
              "27     RETIRADOS  DESAPROBADOS  0.146016  0.146016\n",
              "8   ESPECIALIDAD     APROBADOS -0.139272  0.139272\n",
              "13     APROBADOS  ESPECIALIDAD -0.139272  0.139272\n",
              "19  DESAPROBADOS  ESPECIALIDAD  0.109620  0.109620"
            ],
            "text/html": [
              "\n",
              "  <div id=\"df-db952a28-73a8-485f-aec8-2a142a69d44a\">\n",
              "    <div class=\"colab-df-container\">\n",
              "      <div>\n",
              "<style scoped>\n",
              "    .dataframe tbody tr th:only-of-type {\n",
              "        vertical-align: middle;\n",
              "    }\n",
              "\n",
              "    .dataframe tbody tr th {\n",
              "        vertical-align: top;\n",
              "    }\n",
              "\n",
              "    .dataframe thead th {\n",
              "        text-align: right;\n",
              "    }\n",
              "</style>\n",
              "<table border=\"1\" class=\"dataframe\">\n",
              "  <thead>\n",
              "    <tr style=\"text-align: right;\">\n",
              "      <th></th>\n",
              "      <th>variable_1</th>\n",
              "      <th>variable_2</th>\n",
              "      <th>r</th>\n",
              "      <th>abs_r</th>\n",
              "    </tr>\n",
              "  </thead>\n",
              "  <tbody>\n",
              "    <tr>\n",
              "      <th>32</th>\n",
              "      <td>MATRICULADOS</td>\n",
              "      <td>APROBADOS</td>\n",
              "      <td>0.933670</td>\n",
              "      <td>0.933670</td>\n",
              "    </tr>\n",
              "    <tr>\n",
              "      <th>17</th>\n",
              "      <td>APROBADOS</td>\n",
              "      <td>MATRICULADOS</td>\n",
              "      <td>0.933670</td>\n",
              "      <td>0.933670</td>\n",
              "    </tr>\n",
              "    <tr>\n",
              "      <th>33</th>\n",
              "      <td>MATRICULADOS</td>\n",
              "      <td>DESAPROBADOS</td>\n",
              "      <td>0.606809</td>\n",
              "      <td>0.606809</td>\n",
              "    </tr>\n",
              "    <tr>\n",
              "      <th>23</th>\n",
              "      <td>DESAPROBADOS</td>\n",
              "      <td>MATRICULADOS</td>\n",
              "      <td>0.606809</td>\n",
              "      <td>0.606809</td>\n",
              "    </tr>\n",
              "    <tr>\n",
              "      <th>15</th>\n",
              "      <td>APROBADOS</td>\n",
              "      <td>DESAPROBADOS</td>\n",
              "      <td>0.302626</td>\n",
              "      <td>0.302626</td>\n",
              "    </tr>\n",
              "    <tr>\n",
              "      <th>20</th>\n",
              "      <td>DESAPROBADOS</td>\n",
              "      <td>APROBADOS</td>\n",
              "      <td>0.302626</td>\n",
              "      <td>0.302626</td>\n",
              "    </tr>\n",
              "    <tr>\n",
              "      <th>18</th>\n",
              "      <td>DESAPROBADOS</td>\n",
              "      <td>PERIODO</td>\n",
              "      <td>-0.197342</td>\n",
              "      <td>0.197342</td>\n",
              "    </tr>\n",
              "    <tr>\n",
              "      <th>3</th>\n",
              "      <td>PERIODO</td>\n",
              "      <td>DESAPROBADOS</td>\n",
              "      <td>-0.197342</td>\n",
              "      <td>0.197342</td>\n",
              "    </tr>\n",
              "    <tr>\n",
              "      <th>29</th>\n",
              "      <td>RETIRADOS</td>\n",
              "      <td>MATRICULADOS</td>\n",
              "      <td>0.162460</td>\n",
              "      <td>0.162460</td>\n",
              "    </tr>\n",
              "    <tr>\n",
              "      <th>34</th>\n",
              "      <td>MATRICULADOS</td>\n",
              "      <td>RETIRADOS</td>\n",
              "      <td>0.162460</td>\n",
              "      <td>0.162460</td>\n",
              "    </tr>\n",
              "    <tr>\n",
              "      <th>22</th>\n",
              "      <td>DESAPROBADOS</td>\n",
              "      <td>RETIRADOS</td>\n",
              "      <td>0.146016</td>\n",
              "      <td>0.146016</td>\n",
              "    </tr>\n",
              "    <tr>\n",
              "      <th>27</th>\n",
              "      <td>RETIRADOS</td>\n",
              "      <td>DESAPROBADOS</td>\n",
              "      <td>0.146016</td>\n",
              "      <td>0.146016</td>\n",
              "    </tr>\n",
              "    <tr>\n",
              "      <th>8</th>\n",
              "      <td>ESPECIALIDAD</td>\n",
              "      <td>APROBADOS</td>\n",
              "      <td>-0.139272</td>\n",
              "      <td>0.139272</td>\n",
              "    </tr>\n",
              "    <tr>\n",
              "      <th>13</th>\n",
              "      <td>APROBADOS</td>\n",
              "      <td>ESPECIALIDAD</td>\n",
              "      <td>-0.139272</td>\n",
              "      <td>0.139272</td>\n",
              "    </tr>\n",
              "    <tr>\n",
              "      <th>19</th>\n",
              "      <td>DESAPROBADOS</td>\n",
              "      <td>ESPECIALIDAD</td>\n",
              "      <td>0.109620</td>\n",
              "      <td>0.109620</td>\n",
              "    </tr>\n",
              "  </tbody>\n",
              "</table>\n",
              "</div>\n",
              "      <button class=\"colab-df-convert\" onclick=\"convertToInteractive('df-db952a28-73a8-485f-aec8-2a142a69d44a')\"\n",
              "              title=\"Convert this dataframe to an interactive table.\"\n",
              "              style=\"display:none;\">\n",
              "        \n",
              "  <svg xmlns=\"http://www.w3.org/2000/svg\" height=\"24px\"viewBox=\"0 0 24 24\"\n",
              "       width=\"24px\">\n",
              "    <path d=\"M0 0h24v24H0V0z\" fill=\"none\"/>\n",
              "    <path d=\"M18.56 5.44l.94 2.06.94-2.06 2.06-.94-2.06-.94-.94-2.06-.94 2.06-2.06.94zm-11 1L8.5 8.5l.94-2.06 2.06-.94-2.06-.94L8.5 2.5l-.94 2.06-2.06.94zm10 10l.94 2.06.94-2.06 2.06-.94-2.06-.94-.94-2.06-.94 2.06-2.06.94z\"/><path d=\"M17.41 7.96l-1.37-1.37c-.4-.4-.92-.59-1.43-.59-.52 0-1.04.2-1.43.59L10.3 9.45l-7.72 7.72c-.78.78-.78 2.05 0 2.83L4 21.41c.39.39.9.59 1.41.59.51 0 1.02-.2 1.41-.59l7.78-7.78 2.81-2.81c.8-.78.8-2.07 0-2.86zM5.41 20L4 18.59l7.72-7.72 1.47 1.35L5.41 20z\"/>\n",
              "  </svg>\n",
              "      </button>\n",
              "      \n",
              "  <style>\n",
              "    .colab-df-container {\n",
              "      display:flex;\n",
              "      flex-wrap:wrap;\n",
              "      gap: 12px;\n",
              "    }\n",
              "\n",
              "    .colab-df-convert {\n",
              "      background-color: #E8F0FE;\n",
              "      border: none;\n",
              "      border-radius: 50%;\n",
              "      cursor: pointer;\n",
              "      display: none;\n",
              "      fill: #1967D2;\n",
              "      height: 32px;\n",
              "      padding: 0 0 0 0;\n",
              "      width: 32px;\n",
              "    }\n",
              "\n",
              "    .colab-df-convert:hover {\n",
              "      background-color: #E2EBFA;\n",
              "      box-shadow: 0px 1px 2px rgba(60, 64, 67, 0.3), 0px 1px 3px 1px rgba(60, 64, 67, 0.15);\n",
              "      fill: #174EA6;\n",
              "    }\n",
              "\n",
              "    [theme=dark] .colab-df-convert {\n",
              "      background-color: #3B4455;\n",
              "      fill: #D2E3FC;\n",
              "    }\n",
              "\n",
              "    [theme=dark] .colab-df-convert:hover {\n",
              "      background-color: #434B5C;\n",
              "      box-shadow: 0px 1px 3px 1px rgba(0, 0, 0, 0.15);\n",
              "      filter: drop-shadow(0px 1px 2px rgba(0, 0, 0, 0.3));\n",
              "      fill: #FFFFFF;\n",
              "    }\n",
              "  </style>\n",
              "\n",
              "      <script>\n",
              "        const buttonEl =\n",
              "          document.querySelector('#df-db952a28-73a8-485f-aec8-2a142a69d44a button.colab-df-convert');\n",
              "        buttonEl.style.display =\n",
              "          google.colab.kernel.accessAllowed ? 'block' : 'none';\n",
              "\n",
              "        async function convertToInteractive(key) {\n",
              "          const element = document.querySelector('#df-db952a28-73a8-485f-aec8-2a142a69d44a');\n",
              "          const dataTable =\n",
              "            await google.colab.kernel.invokeFunction('convertToInteractive',\n",
              "                                                     [key], {});\n",
              "          if (!dataTable) return;\n",
              "\n",
              "          const docLinkHtml = 'Like what you see? Visit the ' +\n",
              "            '<a target=\"_blank\" href=https://colab.research.google.com/notebooks/data_table.ipynb>data table notebook</a>'\n",
              "            + ' to learn more about interactive tables.';\n",
              "          element.innerHTML = '';\n",
              "          dataTable['output_type'] = 'display_data';\n",
              "          await google.colab.output.renderOutput(dataTable, element);\n",
              "          const docLink = document.createElement('div');\n",
              "          docLink.innerHTML = docLinkHtml;\n",
              "          element.appendChild(docLink);\n",
              "        }\n",
              "      </script>\n",
              "    </div>\n",
              "  </div>\n",
              "  "
            ]
          },
          "metadata": {},
          "execution_count": 19
        }
      ]
    },
    {
      "cell_type": "code",
      "source": [
        "print(corr_matrix)"
      ],
      "metadata": {
        "colab": {
          "base_uri": "https://localhost:8080/"
        },
        "id": "rP4Nv5p5oqKi",
        "outputId": "eb9ba659-ee29-4927-9663-63e919f3f535"
      },
      "execution_count": null,
      "outputs": [
        {
          "output_type": "stream",
          "name": "stdout",
          "text": [
            "               PERIODO  ESPECIALIDAD  APROBADOS  DESAPROBADOS  RETIRADOS  \\\n",
            "PERIODO       1.000000      0.006989  -0.020997     -0.197342   0.025525   \n",
            "ESPECIALIDAD  0.006989      1.000000  -0.139272      0.109620   0.024795   \n",
            "APROBADOS    -0.020997     -0.139272   1.000000      0.302626  -0.000267   \n",
            "DESAPROBADOS -0.197342      0.109620   0.302626      1.000000   0.146016   \n",
            "RETIRADOS     0.025525      0.024795  -0.000267      0.146016   1.000000   \n",
            "MATRICULADOS -0.081410     -0.075821   0.933670      0.606809   0.162460   \n",
            "\n",
            "              MATRICULADOS  \n",
            "PERIODO          -0.081410  \n",
            "ESPECIALIDAD     -0.075821  \n",
            "APROBADOS         0.933670  \n",
            "DESAPROBADOS      0.606809  \n",
            "RETIRADOS         0.162460  \n",
            "MATRICULADOS      1.000000  \n"
          ]
        }
      ]
    },
    {
      "cell_type": "code",
      "source": [
        "# Heatmap matriz de correlaciones\n",
        "# ==============================================================================\n",
        "fig, ax = plt.subplots(nrows=1, ncols=1, figsize=(4, 4))\n",
        "\n",
        "sns.heatmap(\n",
        "    corr_matrix,\n",
        "    annot     = True,\n",
        "    cbar      = False,\n",
        "    annot_kws = {\"size\": 8},\n",
        "    vmin      = -1,\n",
        "    vmax      = 1,\n",
        "    center    = 0,\n",
        "    cmap      = sns.diverging_palette(20, 220, n=200),\n",
        "    square    = True,\n",
        "    ax        = ax\n",
        ")\n",
        "\n",
        "ax.set_xticklabels(\n",
        "    ax.get_xticklabels(),\n",
        "    rotation = 45,\n",
        "    horizontalalignment = 'right',\n",
        ")\n",
        "\n",
        "ax.tick_params(labelsize = 10)"
      ],
      "metadata": {
        "colab": {
          "base_uri": "https://localhost:8080/",
          "height": 321
        },
        "id": "Nq0SWpBIov5x",
        "outputId": "f94666d9-84f5-4b0d-9f66-b779fc957e18"
      },
      "execution_count": null,
      "outputs": [
        {
          "output_type": "display_data",
          "data": {
            "text/plain": [
              "<Figure size 288x288 with 1 Axes>"
            ],
            "image/png": "[encoded data removed]"
          },
          "metadata": {
            "needs_background": "light"
          }
        }
      ]
    },
    {
      "cell_type": "code",
      "source": [
        "# Gráfico de distribución para cada variable numérica\n",
        "# ==============================================================================\n",
        "# Ajustar número de subplots en función del número de columnas\n",
        "fig, axes = plt.subplots(nrows=2, ncols=3, figsize=(9, 5))\n",
        "axes = axes.flat\n",
        "columnas_numeric = df2.select_dtypes(include=['float64', 'int']).columns\n",
        "\n",
        "for i, colum in enumerate(columnas_numeric):\n",
        "    sns.histplot(\n",
        "        data    = df2,\n",
        "        x       = colum,\n",
        "        stat    = \"count\",\n",
        "        kde     = True,\n",
        "        color   = (list(plt.rcParams['axes.prop_cycle'])*2)[i][\"color\"],\n",
        "        line_kws= {'linewidth': 2},\n",
        "        alpha   = 0.3,\n",
        "        ax      = axes[i]    \n",
        "        )\n",
        "    axes[i].set_title(colum, fontsize = 10, fontweight = \"bold\")\n",
        "    axes[i].tick_params(labelsize = 8)\n",
        "    axes[i].set_xlabel(\"\")\n",
        "\n",
        "\n",
        "    \n",
        "fig.tight_layout()\n",
        "plt.subplots_adjust(top = 0.9)\n",
        "fig.suptitle('Distribución variables numéricas', fontsize = 10, fontweight = \"bold\");"
      ],
      "metadata": {
        "colab": {
          "base_uri": "https://localhost:8080/",
          "height": 373
        },
        "id": "pZpA4248o0-p",
        "outputId": "b33a23a8-07bf-4fae-e8ca-c76a3e4ca32e"
      },
      "execution_count": null,
      "outputs": [
        {
          "output_type": "display_data",
          "data": {
            "text/plain": [
              "<Figure size 648x360 with 6 Axes>"
            ],
            "image/png": "[encoded data removed]"
          },
          "metadata": {
            "needs_background": "light"
          }
        }
      ]
    },
    {
      "cell_type": "code",
      "source": [
        "# División de los datos en train y test\n",
        "# ==============================================================================\n",
        "X = df2[['APROBADOS','DESAPROBADOS','RETIRADOS']]\n",
        "y = df2['MATRICULADOS']\n",
        "\n",
        "X_train, X_test, y_train, y_test = train_test_split(\n",
        "                                        X,\n",
        "                                        y.values.reshape(-1,1),\n",
        "                                        train_size   = 0.8,\n",
        "                                        random_state = 1234,\n",
        "                                        shuffle      = True\n",
        "                                    )"
      ],
      "metadata": {
        "id": "tIf7LkxzpsTi"
      },
      "execution_count": null,
      "outputs": []
    },
    {
      "cell_type": "code",
      "source": [
        "# Creación del modelo utilizando matrices como en scikitlearn\n",
        "# ==============================================================================\n",
        "# A la matriz de predictores se le tiene que añadir una columna de 1's para el intercept del modelo\n",
        "X_train = sm.add_constant(X_train, prepend=True)\n",
        "modelo = sm.OLS(endog=y_train, exog=X_train,)\n",
        "modelo = modelo.fit()\n",
        "print(modelo.summary())"
      ],
      "metadata": {
        "colab": {
          "base_uri": "https://localhost:8080/"
        },
        "id": "ZPLK9gZtqfIS",
        "outputId": "94313c1d-9678-44ae-de05-b7f0491dbfe5"
      },
      "execution_count": null,
      "outputs": [
        {
          "output_type": "stream",
          "name": "stdout",
          "text": [
            "                            OLS Regression Results                            \n",
            "==============================================================================\n",
            "Dep. Variable:                      y   R-squared:                       1.000\n",
            "Model:                            OLS   Adj. R-squared:                  1.000\n",
            "Method:                 Least Squares   F-statistic:                 4.608e+30\n",
            "Date:                Mon, 30 May 2022   Prob (F-statistic):               0.00\n",
            "Time:                        21:02:37   Log-Likelihood:                 55460.\n",
            "No. Observations:                2022   AIC:                        -1.109e+05\n",
            "Df Residuals:                    2018   BIC:                        -1.109e+05\n",
            "Df Model:                           3                                         \n",
            "Covariance Type:            nonrobust                                         \n",
            "================================================================================\n",
            "                   coef    std err          t      P>|t|      [0.025      0.975]\n",
            "--------------------------------------------------------------------------------\n",
            "const        -2.991e-13   1.43e-14    -20.879      0.000   -3.27e-13   -2.71e-13\n",
            "APROBADOS        1.0000    3.4e-16   2.94e+15      0.000       1.000       1.000\n",
            "DESAPROBADOS     1.0000   8.62e-16   1.16e+15      0.000       1.000       1.000\n",
            "RETIRADOS        1.0000   2.48e-15   4.04e+14      0.000       1.000       1.000\n",
            "==============================================================================\n",
            "Omnibus:                      725.929   Durbin-Watson:                   0.000\n",
            "Prob(Omnibus):                  0.000   Jarque-Bera (JB):             1891.040\n",
            "Skew:                          -1.989   Prob(JB):                         0.00\n",
            "Kurtosis:                       5.574   Cond. No.                         91.9\n",
            "==============================================================================\n",
            "\n",
            "Warnings:\n",
            "[1] Standard Errors assume that the covariance matrix of the errors is correctly specified.\n"
          ]
        }
      ]
    },
    {
      "cell_type": "code",
      "source": [
        "# Intervalos de confianza de los coeficientes\n",
        "# Intervalos de confianza para los coeficientes del modelo\n",
        "# ==============================================================================\n",
        "intervalos_ci = modelo.conf_int(alpha=0.05)\n",
        "intervalos_ci.columns = ['2.5%', '97.5%']\n",
        "intervalos_ci"
      ],
      "metadata": {
        "colab": {
          "base_uri": "https://localhost:8080/",
          "height": 175
        },
        "id": "GytfFUMiqiFp",
        "outputId": "e2df4af8-e3ca-4ecc-ed83-71f3ea0c99fb"
      },
      "execution_count": null,
      "outputs": [
        {
          "output_type": "execute_result",
          "data": {
            "text/plain": [
              "                      2.5%         97.5%\n",
              "const        -3.272104e-13 -2.710193e-13\n",
              "APROBADOS     1.000000e+00  1.000000e+00\n",
              "DESAPROBADOS  1.000000e+00  1.000000e+00\n",
              "RETIRADOS     1.000000e+00  1.000000e+00"
            ],
            "text/html": [
              "\n",
              "  <div id=\"df-20ff763f-a256-4c48-82e3-0fe2105a0a34\">\n",
              "    <div class=\"colab-df-container\">\n",
              "      <div>\n",
              "<style scoped>\n",
              "    .dataframe tbody tr th:only-of-type {\n",
              "        vertical-align: middle;\n",
              "    }\n",
              "\n",
              "    .dataframe tbody tr th {\n",
              "        vertical-align: top;\n",
              "    }\n",
              "\n",
              "    .dataframe thead th {\n",
              "        text-align: right;\n",
              "    }\n",
              "</style>\n",
              "<table border=\"1\" class=\"dataframe\">\n",
              "  <thead>\n",
              "    <tr style=\"text-align: right;\">\n",
              "      <th></th>\n",
              "      <th>2.5%</th>\n",
              "      <th>97.5%</th>\n",
              "    </tr>\n",
              "  </thead>\n",
              "  <tbody>\n",
              "    <tr>\n",
              "      <th>const</th>\n",
              "      <td>-3.272104e-13</td>\n",
              "      <td>-2.710193e-13</td>\n",
              "    </tr>\n",
              "    <tr>\n",
              "      <th>APROBADOS</th>\n",
              "      <td>1.000000e+00</td>\n",
              "      <td>1.000000e+00</td>\n",
              "    </tr>\n",
              "    <tr>\n",
              "      <th>DESAPROBADOS</th>\n",
              "      <td>1.000000e+00</td>\n",
              "      <td>1.000000e+00</td>\n",
              "    </tr>\n",
              "    <tr>\n",
              "      <th>RETIRADOS</th>\n",
              "      <td>1.000000e+00</td>\n",
              "      <td>1.000000e+00</td>\n",
              "    </tr>\n",
              "  </tbody>\n",
              "</table>\n",
              "</div>\n",
              "      <button class=\"colab-df-convert\" onclick=\"convertToInteractive('df-20ff763f-a256-4c48-82e3-0fe2105a0a34')\"\n",
              "              title=\"Convert this dataframe to an interactive table.\"\n",
              "              style=\"display:none;\">\n",
              "        \n",
              "  <svg xmlns=\"http://www.w3.org/2000/svg\" height=\"24px\"viewBox=\"0 0 24 24\"\n",
              "       width=\"24px\">\n",
              "    <path d=\"M0 0h24v24H0V0z\" fill=\"none\"/>\n",
              "    <path d=\"M18.56 5.44l.94 2.06.94-2.06 2.06-.94-2.06-.94-.94-2.06-.94 2.06-2.06.94zm-11 1L8.5 8.5l.94-2.06 2.06-.94-2.06-.94L8.5 2.5l-.94 2.06-2.06.94zm10 10l.94 2.06.94-2.06 2.06-.94-2.06-.94-.94-2.06-.94 2.06-2.06.94z\"/><path d=\"M17.41 7.96l-1.37-1.37c-.4-.4-.92-.59-1.43-.59-.52 0-1.04.2-1.43.59L10.3 9.45l-7.72 7.72c-.78.78-.78 2.05 0 2.83L4 21.41c.39.39.9.59 1.41.59.51 0 1.02-.2 1.41-.59l7.78-7.78 2.81-2.81c.8-.78.8-2.07 0-2.86zM5.41 20L4 18.59l7.72-7.72 1.47 1.35L5.41 20z\"/>\n",
              "  </svg>\n",
              "      </button>\n",
              "      \n",
              "  <style>\n",
              "    .colab-df-container {\n",
              "      display:flex;\n",
              "      flex-wrap:wrap;\n",
              "      gap: 12px;\n",
              "    }\n",
              "\n",
              "    .colab-df-convert {\n",
              "      background-color: #E8F0FE;\n",
              "      border: none;\n",
              "      border-radius: 50%;\n",
              "      cursor: pointer;\n",
              "      display: none;\n",
              "      fill: #1967D2;\n",
              "      height: 32px;\n",
              "      padding: 0 0 0 0;\n",
              "      width: 32px;\n",
              "    }\n",
              "\n",
              "    .colab-df-convert:hover {\n",
              "      background-color: #E2EBFA;\n",
              "      box-shadow: 0px 1px 2px rgba(60, 64, 67, 0.3), 0px 1px 3px 1px rgba(60, 64, 67, 0.15);\n",
              "      fill: #174EA6;\n",
              "    }\n",
              "\n",
              "    [theme=dark] .colab-df-convert {\n",
              "      background-color: #3B4455;\n",
              "      fill: #D2E3FC;\n",
              "    }\n",
              "\n",
              "    [theme=dark] .colab-df-convert:hover {\n",
              "      background-color: #434B5C;\n",
              "      box-shadow: 0px 1px 3px 1px rgba(0, 0, 0, 0.15);\n",
              "      filter: drop-shadow(0px 1px 2px rgba(0, 0, 0, 0.3));\n",
              "      fill: #FFFFFF;\n",
              "    }\n",
              "  </style>\n",
              "\n",
              "      <script>\n",
              "        const buttonEl =\n",
              "          document.querySelector('#df-20ff763f-a256-4c48-82e3-0fe2105a0a34 button.colab-df-convert');\n",
              "        buttonEl.style.display =\n",
              "          google.colab.kernel.accessAllowed ? 'block' : 'none';\n",
              "\n",
              "        async function convertToInteractive(key) {\n",
              "          const element = document.querySelector('#df-20ff763f-a256-4c48-82e3-0fe2105a0a34');\n",
              "          const dataTable =\n",
              "            await google.colab.kernel.invokeFunction('convertToInteractive',\n",
              "                                                     [key], {});\n",
              "          if (!dataTable) return;\n",
              "\n",
              "          const docLinkHtml = 'Like what you see? Visit the ' +\n",
              "            '<a target=\"_blank\" href=https://colab.research.google.com/notebooks/data_table.ipynb>data table notebook</a>'\n",
              "            + ' to learn more about interactive tables.';\n",
              "          element.innerHTML = '';\n",
              "          dataTable['output_type'] = 'display_data';\n",
              "          await google.colab.output.renderOutput(dataTable, element);\n",
              "          const docLink = document.createElement('div');\n",
              "          docLink.innerHTML = docLinkHtml;\n",
              "          element.appendChild(docLink);\n",
              "        }\n",
              "      </script>\n",
              "    </div>\n",
              "  </div>\n",
              "  "
            ]
          },
          "metadata": {},
          "execution_count": 60
        }
      ]
    },
    {
      "cell_type": "code",
      "source": [
        "# Diagnóstico errores (residuos) de las predicciones de entrenamiento\n",
        "# ==============================================================================\n",
        "y_train = y_train.flatten()\n",
        "prediccion_train = modelo.predict(exog = X_train)\n",
        "residuos_train   = prediccion_train - y_train"
      ],
      "metadata": {
        "id": "bITGexK_rTxa"
      },
      "execution_count": null,
      "outputs": []
    },
    {
      "cell_type": "code",
      "source": [
        "# Inspección visual\n",
        "fig, axes = plt.subplots(nrows=3, ncols=2, figsize=(9, 8))\n",
        "\n",
        "axes[0, 0].scatter(y_train, prediccion_train, edgecolors=(0, 0, 0), alpha = 0.4)\n",
        "axes[0, 0].plot([y_train.min(), y_train.max()], [y_train.min(), y_train.max()],\n",
        "                'k--', color = 'black', lw=2)\n",
        "axes[0, 0].set_title('Valor predicho vs valor real', fontsize = 10, fontweight = \"bold\")\n",
        "axes[0, 0].set_xlabel('Real')\n",
        "axes[0, 0].set_ylabel('Predicción')\n",
        "axes[0, 0].tick_params(labelsize = 7)\n",
        "\n",
        "axes[0, 1].scatter(list(range(len(y_train))), residuos_train,\n",
        "                   edgecolors=(0, 0, 0), alpha = 0.4)\n",
        "axes[0, 1].axhline(y = 0, linestyle = '--', color = 'black', lw=2)\n",
        "axes[0, 1].set_title('Residuos del modelo', fontsize = 10, fontweight = \"bold\")\n",
        "axes[0, 1].set_xlabel('id')\n",
        "axes[0, 1].set_ylabel('Residuo')\n",
        "axes[0, 1].tick_params(labelsize = 7)\n",
        "\n",
        "sns.histplot(\n",
        "    data    = residuos_train,\n",
        "    stat    = \"density\",\n",
        "    kde     = True,\n",
        "    line_kws= {'linewidth': 1},\n",
        "    color   = \"firebrick\",\n",
        "    alpha   = 0.3,\n",
        "    ax      = axes[1, 0]\n",
        ")\n",
        "\n",
        "axes[1, 0].set_title('Distribución residuos del modelo', fontsize = 10,\n",
        "                     fontweight = \"bold\")\n",
        "axes[1, 0].set_xlabel(\"Residuo\")\n",
        "axes[1, 0].tick_params(labelsize = 7)\n",
        "\n",
        "\n",
        "sm.qqplot(\n",
        "    residuos_train,\n",
        "    fit   = True,\n",
        "    line  = 'q',\n",
        "    ax    = axes[1, 1], \n",
        "    color = 'firebrick',\n",
        "    alpha = 0.4,\n",
        "    lw    = 2\n",
        ")\n",
        "axes[1, 1].set_title('Q-Q residuos del modelo', fontsize = 10, fontweight = \"bold\")\n",
        "axes[1, 1].tick_params(labelsize = 7)\n",
        "\n",
        "axes[2, 0].scatter(prediccion_train, residuos_train,\n",
        "                   edgecolors=(0, 0, 0), alpha = 0.4)\n",
        "axes[2, 0].axhline(y = 0, linestyle = '--', color = 'black', lw=2)\n",
        "axes[2, 0].set_title('Residuos del modelo vs predicción', fontsize = 10, fontweight = \"bold\")\n",
        "axes[2, 0].set_xlabel('Predicción')\n",
        "axes[2, 0].set_ylabel('Residuo')\n",
        "axes[2, 0].tick_params(labelsize = 7)\n",
        "\n",
        "# Se eliminan los axes vacíos\n",
        "fig.delaxes(axes[2,1])\n",
        "\n",
        "fig.tight_layout()\n",
        "plt.subplots_adjust(top=0.9)\n",
        "fig.suptitle('Diagnóstico residuos', fontsize = 12, fontweight = \"bold\");"
      ],
      "metadata": {
        "colab": {
          "base_uri": "https://localhost:8080/",
          "height": 585
        },
        "id": "rIHS7BDurXdS",
        "outputId": "1e70033d-f427-41c8-a886-390b5541524b"
      },
      "execution_count": null,
      "outputs": [
        {
          "output_type": "display_data",
          "data": {
            "text/plain": [
              "<Figure size 648x576 with 5 Axes>"
            ],
            "image/png": "[encoded data removed]"
          },
          "metadata": {
            "needs_background": "light"
          }
        }
      ]
    },
    {
      "cell_type": "code",
      "source": [
        "# Normalidad de los residuos Shapiro-Wilk test\n",
        "# ==============================================================================\n",
        "shapiro_test = stats.shapiro(residuos_train)\n",
        "shapiro_test"
      ],
      "metadata": {
        "colab": {
          "base_uri": "https://localhost:8080/"
        },
        "id": "i-TSh4AdsFnJ",
        "outputId": "379dfe33-98d7-48a0-d390-8728440d8869"
      },
      "execution_count": null,
      "outputs": [
        {
          "output_type": "execute_result",
          "data": {
            "text/plain": [
              "(0.5296808481216431, 0.0)"
            ]
          },
          "metadata": {},
          "execution_count": 63
        }
      ]
    },
    {
      "cell_type": "code",
      "source": [
        "# Normalidad de los residuos D'Agostino's K-squared test\n",
        "# ==============================================================================\n",
        "k2, p_value = stats.normaltest(residuos_train)\n",
        "print(f\"Estadítico= {k2}, p-value = {p_value}\")"
      ],
      "metadata": {
        "colab": {
          "base_uri": "https://localhost:8080/"
        },
        "id": "M64R1i0ZsHXS",
        "outputId": "290306df-cdd3-4840-ec1a-234824709ea2"
      },
      "execution_count": null,
      "outputs": [
        {
          "output_type": "stream",
          "name": "stdout",
          "text": [
            "Estadítico= 725.9289646049299, p-value = 2.325563535649328e-158\n"
          ]
        }
      ]
    },
    {
      "cell_type": "code",
      "source": [
        "# Predicciones con intervalo de confianza \n",
        "# ==============================================================================\n",
        "predicciones = modelo.get_prediction(exog = X_train).summary_frame(alpha=0.05)\n",
        "predicciones.head(4)"
      ],
      "metadata": {
        "colab": {
          "base_uri": "https://localhost:8080/",
          "height": 175
        },
        "id": "FgOl4xODsZqT",
        "outputId": "e2294d0c-3604-4115-d788-6ff29252ca6f"
      },
      "execution_count": null,
      "outputs": [
        {
          "output_type": "execute_result",
          "data": {
            "text/plain": [
              "      mean       mean_se  mean_ci_lower  mean_ci_upper  obs_ci_lower  \\\n",
              "1010  42.0  7.258223e-15           42.0           42.0          42.0   \n",
              "268   57.0  1.317710e-14           57.0           57.0          57.0   \n",
              "1940  56.0  1.097190e-14           56.0           56.0          56.0   \n",
              "117   22.0  1.450940e-14           22.0           22.0          22.0   \n",
              "\n",
              "      obs_ci_upper  \n",
              "1010          42.0  \n",
              "268           57.0  \n",
              "1940          56.0  \n",
              "117           22.0  "
            ],
            "text/html": [
              "\n",
              "  <div id=\"df-e4112488-3a69-408d-bc1c-b17fc44ffbe3\">\n",
              "    <div class=\"colab-df-container\">\n",
              "      <div>\n",
              "<style scoped>\n",
              "    .dataframe tbody tr th:only-of-type {\n",
              "        vertical-align: middle;\n",
              "    }\n",
              "\n",
              "    .dataframe tbody tr th {\n",
              "        vertical-align: top;\n",
              "    }\n",
              "\n",
              "    .dataframe thead th {\n",
              "        text-align: right;\n",
              "    }\n",
              "</style>\n",
              "<table border=\"1\" class=\"dataframe\">\n",
              "  <thead>\n",
              "    <tr style=\"text-align: right;\">\n",
              "      <th></th>\n",
              "      <th>mean</th>\n",
              "      <th>mean_se</th>\n",
              "      <th>mean_ci_lower</th>\n",
              "      <th>mean_ci_upper</th>\n",
              "      <th>obs_ci_lower</th>\n",
              "      <th>obs_ci_upper</th>\n",
              "    </tr>\n",
              "  </thead>\n",
              "  <tbody>\n",
              "    <tr>\n",
              "      <th>1010</th>\n",
              "      <td>42.0</td>\n",
              "      <td>7.258223e-15</td>\n",
              "      <td>42.0</td>\n",
              "      <td>42.0</td>\n",
              "      <td>42.0</td>\n",
              "      <td>42.0</td>\n",
              "    </tr>\n",
              "    <tr>\n",
              "      <th>268</th>\n",
              "      <td>57.0</td>\n",
              "      <td>1.317710e-14</td>\n",
              "      <td>57.0</td>\n",
              "      <td>57.0</td>\n",
              "      <td>57.0</td>\n",
              "      <td>57.0</td>\n",
              "    </tr>\n",
              "    <tr>\n",
              "      <th>1940</th>\n",
              "      <td>56.0</td>\n",
              "      <td>1.097190e-14</td>\n",
              "      <td>56.0</td>\n",
              "      <td>56.0</td>\n",
              "      <td>56.0</td>\n",
              "      <td>56.0</td>\n",
              "    </tr>\n",
              "    <tr>\n",
              "      <th>117</th>\n",
              "      <td>22.0</td>\n",
              "      <td>1.450940e-14</td>\n",
              "      <td>22.0</td>\n",
              "      <td>22.0</td>\n",
              "      <td>22.0</td>\n",
              "      <td>22.0</td>\n",
              "    </tr>\n",
              "  </tbody>\n",
              "</table>\n",
              "</div>\n",
              "      <button class=\"colab-df-convert\" onclick=\"convertToInteractive('df-e4112488-3a69-408d-bc1c-b17fc44ffbe3')\"\n",
              "              title=\"Convert this dataframe to an interactive table.\"\n",
              "              style=\"display:none;\">\n",
              "        \n",
              "  <svg xmlns=\"http://www.w3.org/2000/svg\" height=\"24px\"viewBox=\"0 0 24 24\"\n",
              "       width=\"24px\">\n",
              "    <path d=\"M0 0h24v24H0V0z\" fill=\"none\"/>\n",
              "    <path d=\"M18.56 5.44l.94 2.06.94-2.06 2.06-.94-2.06-.94-.94-2.06-.94 2.06-2.06.94zm-11 1L8.5 8.5l.94-2.06 2.06-.94-2.06-.94L8.5 2.5l-.94 2.06-2.06.94zm10 10l.94 2.06.94-2.06 2.06-.94-2.06-.94-.94-2.06-.94 2.06-2.06.94z\"/><path d=\"M17.41 7.96l-1.37-1.37c-.4-.4-.92-.59-1.43-.59-.52 0-1.04.2-1.43.59L10.3 9.45l-7.72 7.72c-.78.78-.78 2.05 0 2.83L4 21.41c.39.39.9.59 1.41.59.51 0 1.02-.2 1.41-.59l7.78-7.78 2.81-2.81c.8-.78.8-2.07 0-2.86zM5.41 20L4 18.59l7.72-7.72 1.47 1.35L5.41 20z\"/>\n",
              "  </svg>\n",
              "      </button>\n",
              "      \n",
              "  <style>\n",
              "    .colab-df-container {\n",
              "      display:flex;\n",
              "      flex-wrap:wrap;\n",
              "      gap: 12px;\n",
              "    }\n",
              "\n",
              "    .colab-df-convert {\n",
              "      background-color: #E8F0FE;\n",
              "      border: none;\n",
              "      border-radius: 50%;\n",
              "      cursor: pointer;\n",
              "      display: none;\n",
              "      fill: #1967D2;\n",
              "      height: 32px;\n",
              "      padding: 0 0 0 0;\n",
              "      width: 32px;\n",
              "    }\n",
              "\n",
              "    .colab-df-convert:hover {\n",
              "      background-color: #E2EBFA;\n",
              "      box-shadow: 0px 1px 2px rgba(60, 64, 67, 0.3), 0px 1px 3px 1px rgba(60, 64, 67, 0.15);\n",
              "      fill: #174EA6;\n",
              "    }\n",
              "\n",
              "    [theme=dark] .colab-df-convert {\n",
              "      background-color: #3B4455;\n",
              "      fill: #D2E3FC;\n",
              "    }\n",
              "\n",
              "    [theme=dark] .colab-df-convert:hover {\n",
              "      background-color: #434B5C;\n",
              "      box-shadow: 0px 1px 3px 1px rgba(0, 0, 0, 0.15);\n",
              "      filter: drop-shadow(0px 1px 2px rgba(0, 0, 0, 0.3));\n",
              "      fill: #FFFFFF;\n",
              "    }\n",
              "  </style>\n",
              "\n",
              "      <script>\n",
              "        const buttonEl =\n",
              "          document.querySelector('#df-e4112488-3a69-408d-bc1c-b17fc44ffbe3 button.colab-df-convert');\n",
              "        buttonEl.style.display =\n",
              "          google.colab.kernel.accessAllowed ? 'block' : 'none';\n",
              "\n",
              "        async function convertToInteractive(key) {\n",
              "          const element = document.querySelector('#df-e4112488-3a69-408d-bc1c-b17fc44ffbe3');\n",
              "          const dataTable =\n",
              "            await google.colab.kernel.invokeFunction('convertToInteractive',\n",
              "                                                     [key], {});\n",
              "          if (!dataTable) return;\n",
              "\n",
              "          const docLinkHtml = 'Like what you see? Visit the ' +\n",
              "            '<a target=\"_blank\" href=https://colab.research.google.com/notebooks/data_table.ipynb>data table notebook</a>'\n",
              "            + ' to learn more about interactive tables.';\n",
              "          element.innerHTML = '';\n",
              "          dataTable['output_type'] = 'display_data';\n",
              "          await google.colab.output.renderOutput(dataTable, element);\n",
              "          const docLink = document.createElement('div');\n",
              "          docLink.innerHTML = docLinkHtml;\n",
              "          element.appendChild(docLink);\n",
              "        }\n",
              "      </script>\n",
              "    </div>\n",
              "  </div>\n",
              "  "
            ]
          },
          "metadata": {},
          "execution_count": 65
        }
      ]
    },
    {
      "cell_type": "code",
      "source": [
        "# Error de test\n",
        "# Error de test del modelo \n",
        "# ==============================================================================\n",
        "X_test = sm.add_constant(X_test, prepend=True)\n",
        "predicciones = modelo.predict(exog = X_test)\n",
        "rmse = mean_squared_error(\n",
        "        y_true  = y_test,\n",
        "        y_pred  = predicciones,\n",
        "        squared = False\n",
        "       )\n",
        "print(\"\")\n",
        "print(f\"El error (rmse) de test es: {rmse}\")"
      ],
      "metadata": {
        "colab": {
          "base_uri": "https://localhost:8080/"
        },
        "id": "EC-Lw2eRsdnS",
        "outputId": "2491524d-08ae-48ff-dbe7-1ec9fbd71902"
      },
      "execution_count": null,
      "outputs": [
        {
          "output_type": "stream",
          "name": "stdout",
          "text": [
            "\n",
            "El error (rmse) de test es: 2.9622817447890423e-13\n"
          ]
        }
      ]
    },
    {
      "cell_type": "code",
      "source": [
        "aprobados = 11250\n",
        "desaprobados = 113\n",
        "retirados = 16\n",
        "matriculados_p = -2.991 + 1*aprobados - 1*desaprobados - 1*retirados\n",
        "matriculados_p"
      ],
      "metadata": {
        "colab": {
          "base_uri": "https://localhost:8080/"
        },
        "id": "o1FDkQHmwDeT",
        "outputId": "dc48b59a-5314-49c6-fcaa-6f0fe1954c53"
      },
      "execution_count": null,
      "outputs": [
        {
          "output_type": "execute_result",
          "data": {
            "text/plain": [
              "11118.009"
            ]
          },
          "metadata": {},
          "execution_count": 1
        }
      ]
    },
    {
      "cell_type": "markdown",
      "source": [
        "#Conclusiones\n"
      ],
      "metadata": {
        "id": "rcP7YpGrrm5u"
      }
    },
    {
      "cell_type": "markdown",
      "source": [
        "Según el valor de R-squared a 100% indica que el modelo explica toda de la varianza en la variable de resultado. Ademas, el p-value del modelo es significativo (4.608e+30) por lo que se puede aceptar el modelo, los coeficientes parciales de regresión son equivalentes a 0."
      ],
      "metadata": {
        "id": "PoYCaEzkrnWQ"
      }
    },
    {
      "cell_type": "markdown",
      "source": [
        "#Bibliografía"
      ],
      "metadata": {
        "id": "ApzRA6FBrqgO"
      }
    },
    {
      "cell_type": "markdown",
      "source": [
        "\n",
        "\n",
        "\n",
        "+ [GitHub](https://github.com/adam-p/markdown-here/wiki/Markdown-Cheatsheet)\n",
        "+[Colaboratory](https://colab.research.google.com/?utm_source=scs-index)"
      ],
      "metadata": {
        "id": "5c5VJFIJrtZG"
      }
    }
  ]
}